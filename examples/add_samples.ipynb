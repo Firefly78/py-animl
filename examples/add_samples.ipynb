{
 "cells": [
  {
   "cell_type": "code",
   "execution_count": 1,
   "metadata": {},
   "outputs": [
    {
     "data": {
      "text/plain": [
       "<?xml version=\"1.0\" ?>\n",
       "<AnIML xmlns=\"urn:org:astm:animl:schema:core:draft:0.90\" xmlns:xsi=\"http://www.w3.org/2001/XMLSchema-instance\" version=\"0.90\" xsi:schemaLocation=\"urn:org:astm:animl:schema:core:draft:0.90 http://schemas.animl.org/current/animl-core.xsd\">\n",
       "  <SampleSet>\n",
       "    <Sample name=\"my-first-sample\" sampleID=\"111\" barcode=\"my_barcode\">\n",
       "      <TagSet>\n",
       "        <Tag name=\"my_data\" value=\"tagify\"/>\n",
       "      </TagSet>\n",
       "      <Category name=\"my_category\">\n",
       "        <Parameter name=\"temperature\" parameterType=\"ParameterType.Float64\">\n",
       "          <D>24</D>\n",
       "          <Unit label=\"C\"/>\n",
       "        </Parameter>\n",
       "      </Category>\n",
       "    </Sample>\n",
       "  </SampleSet>\n",
       "</AnIML>\n"
      ]
     },
     "execution_count": 1,
     "metadata": {},
     "output_type": "execute_result"
    }
   ],
   "source": [
    "\n",
    "from animl2 import create_document\n",
    "from animl2.models import Sample\n",
    "from animl2.models.category import Category\n",
    "from animl2.models.data_type import DoubleType\n",
    "from animl2.models.parameter import Parameter, ParameterType\n",
    "from animl2.models.tags import Tag\n",
    "from animl2.models.unit import Unit\n",
    "\n",
    "# Create a new AnIML document\n",
    "doc = create_document()\n",
    "\n",
    "# Append and modify a sample\n",
    "sample = doc.append(Sample(name=\"my-first-sample\", sampleID=\"111\"))\n",
    "sample.barcode = \"my_barcode\"\n",
    "\n",
    "# Tag the sample\n",
    "sample.append(Tag(name=\"my_data\", value=\"tagify\"))\n",
    "\n",
    "# Add some data\n",
    "sample.category = Category(name=\"my_category\")\n",
    "sample.category.append(\n",
    "    Parameter(\n",
    "        name=\"temperature\",\n",
    "        parameterType=ParameterType.Float64,\n",
    "        value=DoubleType(value=24),\n",
    "        unit=Unit(label=\"C\"),\n",
    "        ),\n",
    "    )\n",
    "\n",
    "\n",
    "# Print the document\n",
    "from xml.dom import minidom\n",
    "from xml.etree import ElementTree as ET\n",
    "\n",
    "et = doc.dump_xml()\n",
    "\n",
    "xml_string = minidom.parseString(ET.tostring(et)).toprettyxml(indent=\"  \")\n",
    "\n",
    "from IPython.display import Pretty\n",
    "Pretty(xml_string)"
   ]
  }
 ],
 "metadata": {
  "kernelspec": {
   "display_name": ".venv",
   "language": "python",
   "name": "python3"
  },
  "language_info": {
   "codemirror_mode": {
    "name": "ipython",
    "version": 3
   },
   "file_extension": ".py",
   "mimetype": "text/x-python",
   "name": "python",
   "nbconvert_exporter": "python",
   "pygments_lexer": "ipython3",
   "version": "3.9.1"
  }
 },
 "nbformat": 4,
 "nbformat_minor": 2
}
