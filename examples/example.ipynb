{
 "cells": [
  {
   "cell_type": "code",
   "execution_count": 2,
   "metadata": {},
   "outputs": [
    {
     "data": {
      "text/plain": [
       "<?xml version=\"1.0\" ?>\n",
       "<AnIML xmlns=\"urn:org:astm:animl:schema:core:draft:0.90\" xmlns:xsi=\"http://www.w3.org/2001/XMLSchema-instance\" version=\"0.90\" xsi:schemaLocation=\"urn:org:astm:animl:schema:core:draft:0.90 http://schemas.animl.org/current/animl-core.xsd\">\n",
       "  <SampleSet id=\"id_used_to_reference_all_samples\">\n",
       "    <Sample name=\"sample1\" sampleID=\"1\"/>\n",
       "    <Sample name=\"sample2\" sampleID=\"2\"/>\n",
       "    <Sample name=\"sample3\" sampleID=\"3\"/>\n",
       "  </SampleSet>\n",
       "</AnIML>\n"
      ]
     },
     "execution_count": 2,
     "metadata": {},
     "output_type": "execute_result"
    }
   ],
   "source": [
    "from xml.dom import minidom\n",
    "from xml.etree import ElementTree as ET\n",
    "from animl2.models import AnIMLDoc, Sample, SampleSet\n",
    "\n",
    "doc = AnIMLDoc()\n",
    "doc.sample_set = SampleSet(id=\"id_used_to_reference_all_samples\")\n",
    "doc.sample_set.append(Sample(name='sample1', sampleID=\"1\"))\n",
    "doc.sample_set.append(Sample(name='sample2', sampleID=\"2\"))\n",
    "doc.sample_set.append(Sample(name='sample3', sampleID=\"3\"))\n",
    "\n",
    "et = doc.dump_xml()\n",
    "\n",
    "xml_string = minidom.parseString(ET.tostring(et)).toprettyxml(indent=\"  \")\n",
    "\n",
    "from IPython.display import Pretty\n",
    "Pretty(xml_string)\n",
    "\n"
   ]
  }
 ],
 "metadata": {
  "kernelspec": {
   "display_name": ".venv",
   "language": "python",
   "name": "python3"
  },
  "language_info": {
   "codemirror_mode": {
    "name": "ipython",
    "version": 3
   },
   "file_extension": ".py",
   "mimetype": "text/x-python",
   "name": "python",
   "nbconvert_exporter": "python",
   "pygments_lexer": "ipython3",
   "version": "3.9.1"
  }
 },
 "nbformat": 4,
 "nbformat_minor": 2
}
